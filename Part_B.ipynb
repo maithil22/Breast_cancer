{
 "cells": [
  {
   "cell_type": "code",
   "execution_count": 63,
   "metadata": {},
   "outputs": [],
   "source": [
    "import numpy as np\n",
    "import pandas as pd\n",
    "import matplotlib.pyplot as plt\n",
    "import seaborn as sns\n",
    "%matplotlib inline\n",
    "\n",
    "from sklearn.linear_model import LinearRegression\n",
    "from sklearn.model_selection import train_test_split\n",
    "from sklearn.metrics import mean_squared_error,r2_score\n",
    "from xgboost import XGBRegressor"
   ]
  },
  {
   "cell_type": "code",
   "execution_count": 64,
   "metadata": {},
   "outputs": [],
   "source": [
    "# Similar analysis as in Question a) 'Processed_data_2.csv' contains features that were scaled, encoded in question a) \n",
    "data = pd.read_csv('Processed_data_2.csv')"
   ]
  },
  {
   "cell_type": "code",
   "execution_count": 65,
   "metadata": {},
   "outputs": [],
   "source": [
    "data = data[data['Outcome'] == 'R']"
   ]
  },
  {
   "cell_type": "code",
   "execution_count": 66,
   "metadata": {},
   "outputs": [
    {
     "name": "stdout",
     "output_type": "stream",
     "text": [
      "<class 'pandas.core.frame.DataFrame'>\n",
      "Int64Index: 47 entries, 4 to 196\n",
      "Data columns (total 40 columns):\n",
      " #   Column                     Non-Null Count  Dtype  \n",
      "---  ------                     --------------  -----  \n",
      " 0   ID                         47 non-null     int64  \n",
      " 1   Time                       47 non-null     int64  \n",
      " 2   radius_mean                47 non-null     float64\n",
      " 3   texture_mean               47 non-null     float64\n",
      " 4   perimeter_mean             47 non-null     float64\n",
      " 5   area_mean                  47 non-null     float64\n",
      " 6   smoothness_mean            47 non-null     float64\n",
      " 7   compactness_mean           47 non-null     float64\n",
      " 8   concavity_mean             47 non-null     float64\n",
      " 9   concave_points_mean        47 non-null     float64\n",
      " 10  symmetry_mean              47 non-null     float64\n",
      " 11  fractal_dimension_mean     47 non-null     float64\n",
      " 12  radius_std_dev             47 non-null     float64\n",
      " 13  texture_std_dev            47 non-null     float64\n",
      " 14  perimeter_std_dev          47 non-null     float64\n",
      " 15  area_std_dev               47 non-null     float64\n",
      " 16  smoothness_std_dev         47 non-null     float64\n",
      " 17  compactness_std_dev        47 non-null     float64\n",
      " 18  concavity_std_dev          47 non-null     float64\n",
      " 19  concave_points_std_dev     47 non-null     float64\n",
      " 20  symmetry_std_dev           47 non-null     float64\n",
      " 21  fractal_dimension_std_dev  47 non-null     float64\n",
      " 22  Worst_radius               47 non-null     float64\n",
      " 23  Worst_texture              47 non-null     float64\n",
      " 24  Worst_perimeter            47 non-null     float64\n",
      " 25  Worst_area                 47 non-null     float64\n",
      " 26  Worst_smoothness           47 non-null     float64\n",
      " 27  Worst_compactness          47 non-null     float64\n",
      " 28  Worst_concavity            47 non-null     float64\n",
      " 29  Worst_concave_points       47 non-null     float64\n",
      " 30  Worst_symmetry             47 non-null     float64\n",
      " 31  Worst_fractal_dimension    47 non-null     float64\n",
      " 32  Tumor_Size                 47 non-null     float64\n",
      " 33  Time_divide                47 non-null     int64  \n",
      " 34  Lymph_Node_Status          47 non-null     int64  \n",
      " 35  Time_0to2                  47 non-null     int64  \n",
      " 36  Time_2to5                  47 non-null     int64  \n",
      " 37  Time_above5                47 non-null     int64  \n",
      " 38  freq_enc_lymph             47 non-null     float64\n",
      " 39  Outcome                    47 non-null     object \n",
      "dtypes: float64(32), int64(7), object(1)\n",
      "memory usage: 15.1+ KB\n"
     ]
    }
   ],
   "source": [
    "data.info()"
   ]
  },
  {
   "cell_type": "code",
   "execution_count": 67,
   "metadata": {},
   "outputs": [],
   "source": [
    "data.drop(['Outcome'],inplace=True,axis=1)"
   ]
  },
  {
   "cell_type": "code",
   "execution_count": 68,
   "metadata": {},
   "outputs": [],
   "source": [
    "X_train, X_test, y_train, y_test = train_test_split(data.drop(['Time','ID'],axis=1),data['Time'], test_size=0.35, random_state=101)"
   ]
  },
  {
   "cell_type": "code",
   "execution_count": 70,
   "metadata": {},
   "outputs": [
    {
     "name": "stdout",
     "output_type": "stream",
     "text": [
      "0.5204400371390676\n",
      "12.86542619480475\n",
      "0.1882442687524294\n",
      "7.737483028486471\n",
      "0.8814814844290217\n"
     ]
    },
    {
     "data": {
      "image/png": "[encoded data removed]",
      "text/plain": [
       "<Figure size 432x288 with 1 Axes>"
      ]
     },
     "metadata": {
      "needs_background": "light"
     },
     "output_type": "display_data"
    }
   ],
   "source": [
    "model1 = LinearRegression()\n",
    "model1.fit(X_train,y_train)\n",
    "pred1 = model1.predict(X_test)\n",
    "mean_error = np.mean(y_test-pred1)\n",
    "print(mean_error)\n",
    "print(np.sqrt(mean_squared_error(y_test,pred1)))\n",
    "sns.distplot(y_test-pred1)\n",
    "\n",
    "train_pred1 = model1.predict(data.drop(['Time','ID'],axis=1))\n",
    "print(np.mean(data['Time']-train_pred1))\n",
    "print(np.sqrt(mean_squared_error(data['Time'],train_pred1)))\n",
    "\n",
    "print(r2_score(data['Time'],train_pred1))\n"
   ]
  },
  {
   "cell_type": "code",
   "execution_count": 71,
   "metadata": {},
   "outputs": [
    {
     "name": "stdout",
     "output_type": "stream",
     "text": [
      "4.696444819955265\n",
      "8.05512295862845\n",
      "1.6987142816502998\n",
      "4.844486024085197\n",
      "0.9535396797386738\n"
     ]
    },
    {
     "data": {
      "image/png": "[encoded data removed]",
      "text/plain": [
       "<Figure size 432x288 with 1 Axes>"
      ]
     },
     "metadata": {
      "needs_background": "light"
     },
     "output_type": "display_data"
    }
   ],
   "source": [
    "model2 = XGBRegressor(booster='dart')\n",
    "model2.fit(X_train,y_train)\n",
    "pred2 = model2.predict(X_test)\n",
    "mean_error = np.mean(y_test-pred2)\n",
    "print(mean_error)\n",
    "print(np.sqrt(mean_squared_error(y_test,pred2)))\n",
    "sns.distplot(y_test-pred2)\n",
    "\n",
    "train_pred2 = model2.predict(data.drop(['Time','ID'],axis=1))\n",
    "print(np.mean(data['Time']-train_pred2))\n",
    "print(np.sqrt(mean_squared_error(data['Time'],train_pred2)))\n",
    "\n",
    "print(r2_score(data['Time'],train_pred2))\n",
    "\n"
   ]
  },
  {
   "cell_type": "code",
   "execution_count": 58,
   "metadata": {},
   "outputs": [
    {
     "data": {
      "text/plain": [
       "array([27.        , 64.09851029, 77.        , 60.15371132, 10.        ,\n",
       "       10.        ,  9.        ,  2.42636223, 48.        , 11.        ,\n",
       "       34.        , 19.        , 26.        , 40.        , 11.28902887,\n",
       "       35.        , 82.42372582,  7.        , 44.        ,  8.        ,\n",
       "       -3.87398864, 75.17571698, 12.77226025, 19.        , 49.54335124,\n",
       "       12.        , 37.        ,  5.        , 58.        , 78.        ,\n",
       "        6.37535764, 33.        ,  4.        ,  5.        ,  2.        ,\n",
       "       45.67675238,  1.        ,  9.        ,  2.43121558, -1.99216664,\n",
       "       14.        , 12.        , 26.80346213, -2.32314883, 32.26858156,\n",
       "        1.        , 11.9037872 ])"
      ]
     },
     "execution_count": 58,
     "metadata": {},
     "output_type": "execute_result"
    }
   ],
   "source": [
    "#Is not the correct fit.\n",
    "train_pred1"
   ]
  },
  {
   "cell_type": "code",
   "execution_count": 59,
   "metadata": {},
   "outputs": [
    {
     "data": {
      "text/plain": [
       "array([26.999945 , 68.78636  , 77.00024  , 35.898537 , 10.000188 ,\n",
       "       10.000082 ,  9.0001135,  4.614289 , 47.999084 , 10.999986 ,\n",
       "       34.00043  , 18.999346 , 26.000277 , 40.00017  , 11.898436 ,\n",
       "       34.99993  , 76.421776 ,  7.0001483, 43.99929  ,  7.9998507,\n",
       "        8.386093 , 76.50644  ,  3.4672353, 18.99986  , 37.83654  ,\n",
       "       11.999959 , 37.000416 ,  5.0001397, 57.999783 , 77.9984   ,\n",
       "        6.5164776, 32.99998  ,  4.000926 ,  5.0006485,  2.0000267,\n",
       "       33.619457 ,  1.0003784,  8.999845 ,  6.981586 ,  2.8699515,\n",
       "       13.999549 , 12.000164 , 12.814824 ,  4.065981 ,  6.55621  ,\n",
       "        1.0008364,  6.920244 ], dtype=float32)"
      ]
     },
     "execution_count": 59,
     "metadata": {},
     "output_type": "execute_result"
    }
   ],
   "source": [
    "train_pred2"
   ]
  },
  {
   "cell_type": "code",
   "execution_count": 74,
   "metadata": {},
   "outputs": [
    {
     "data": {
      "text/plain": [
       "array([27, 77, 77, 36, 10, 10,  9,  8, 48, 11, 34, 19, 26, 40, 10, 35, 73,\n",
       "        7, 44,  8, 17, 74, 17, 19, 39, 12, 37,  5, 58, 78, 24, 33,  4,  5,\n",
       "        2, 49,  1,  9, 16,  9, 14, 12, 11,  7, 14,  1,  3], dtype=int64)"
      ]
     },
     "execution_count": 74,
     "metadata": {},
     "output_type": "execute_result"
    }
   ],
   "source": [
    "np.array(data['Time'])"
   ]
  },
  {
   "cell_type": "code",
   "execution_count": 75,
   "metadata": {},
   "outputs": [],
   "source": [
    "final_sub = pd.DataFrame(data=zip(data['ID'],train_pred2),columns=['ID','Time_prediction'])\n",
    "final_sub.to_csv('question_b.csv',index=False)"
   ]
  },
  {
   "cell_type": "code",
   "execution_count": 76,
   "metadata": {},
   "outputs": [
    {
     "data": {
      "text/html": [
       "<div>\n",
       "<style scoped>\n",
       "    .dataframe tbody tr th:only-of-type {\n",
       "        vertical-align: middle;\n",
       "    }\n",
       "\n",
       "    .dataframe tbody tr th {\n",
       "        vertical-align: top;\n",
       "    }\n",
       "\n",
       "    .dataframe thead th {\n",
       "        text-align: right;\n",
       "    }\n",
       "</style>\n",
       "<table border=\"1\" class=\"dataframe\">\n",
       "  <thead>\n",
       "    <tr style=\"text-align: right;\">\n",
       "      <th></th>\n",
       "      <th>ID</th>\n",
       "      <th>Time_prediction</th>\n",
       "    </tr>\n",
       "  </thead>\n",
       "  <tbody>\n",
       "    <tr>\n",
       "      <th>0</th>\n",
       "      <td>843584</td>\n",
       "      <td>26.999945</td>\n",
       "    </tr>\n",
       "    <tr>\n",
       "      <th>1</th>\n",
       "      <td>843786</td>\n",
       "      <td>68.786362</td>\n",
       "    </tr>\n",
       "    <tr>\n",
       "      <th>2</th>\n",
       "      <td>844582</td>\n",
       "      <td>77.000237</td>\n",
       "    </tr>\n",
       "    <tr>\n",
       "      <th>3</th>\n",
       "      <td>847990</td>\n",
       "      <td>35.898537</td>\n",
       "    </tr>\n",
       "    <tr>\n",
       "      <th>4</th>\n",
       "      <td>848620</td>\n",
       "      <td>10.000188</td>\n",
       "    </tr>\n",
       "    <tr>\n",
       "      <th>5</th>\n",
       "      <td>851509</td>\n",
       "      <td>10.000082</td>\n",
       "    </tr>\n",
       "    <tr>\n",
       "      <th>6</th>\n",
       "      <td>855625</td>\n",
       "      <td>9.000113</td>\n",
       "    </tr>\n",
       "    <tr>\n",
       "      <th>7</th>\n",
       "      <td>857010</td>\n",
       "      <td>4.614289</td>\n",
       "    </tr>\n",
       "    <tr>\n",
       "      <th>8</th>\n",
       "      <td>857438</td>\n",
       "      <td>47.999084</td>\n",
       "    </tr>\n",
       "    <tr>\n",
       "      <th>9</th>\n",
       "      <td>857637</td>\n",
       "      <td>10.999986</td>\n",
       "    </tr>\n",
       "    <tr>\n",
       "      <th>10</th>\n",
       "      <td>858986</td>\n",
       "      <td>34.000431</td>\n",
       "    </tr>\n",
       "    <tr>\n",
       "      <th>11</th>\n",
       "      <td>859223</td>\n",
       "      <td>18.999346</td>\n",
       "    </tr>\n",
       "    <tr>\n",
       "      <th>12</th>\n",
       "      <td>859983</td>\n",
       "      <td>26.000277</td>\n",
       "    </tr>\n",
       "    <tr>\n",
       "      <th>13</th>\n",
       "      <td>8611792</td>\n",
       "      <td>40.000172</td>\n",
       "    </tr>\n",
       "    <tr>\n",
       "      <th>14</th>\n",
       "      <td>86208</td>\n",
       "      <td>11.898436</td>\n",
       "    </tr>\n",
       "    <tr>\n",
       "      <th>15</th>\n",
       "      <td>865128</td>\n",
       "      <td>34.999931</td>\n",
       "    </tr>\n",
       "    <tr>\n",
       "      <th>16</th>\n",
       "      <td>866203</td>\n",
       "      <td>76.421776</td>\n",
       "    </tr>\n",
       "    <tr>\n",
       "      <th>17</th>\n",
       "      <td>867739</td>\n",
       "      <td>7.000148</td>\n",
       "    </tr>\n",
       "    <tr>\n",
       "      <th>18</th>\n",
       "      <td>87112</td>\n",
       "      <td>43.999290</td>\n",
       "    </tr>\n",
       "    <tr>\n",
       "      <th>19</th>\n",
       "      <td>871201</td>\n",
       "      <td>7.999851</td>\n",
       "    </tr>\n",
       "    <tr>\n",
       "      <th>20</th>\n",
       "      <td>873592</td>\n",
       "      <td>8.386093</td>\n",
       "    </tr>\n",
       "    <tr>\n",
       "      <th>21</th>\n",
       "      <td>875263</td>\n",
       "      <td>76.506439</td>\n",
       "    </tr>\n",
       "    <tr>\n",
       "      <th>22</th>\n",
       "      <td>879523</td>\n",
       "      <td>3.467235</td>\n",
       "    </tr>\n",
       "    <tr>\n",
       "      <th>23</th>\n",
       "      <td>886490</td>\n",
       "      <td>18.999861</td>\n",
       "    </tr>\n",
       "    <tr>\n",
       "      <th>24</th>\n",
       "      <td>887549</td>\n",
       "      <td>37.836540</td>\n",
       "    </tr>\n",
       "    <tr>\n",
       "      <th>25</th>\n",
       "      <td>888570</td>\n",
       "      <td>11.999959</td>\n",
       "    </tr>\n",
       "    <tr>\n",
       "      <th>26</th>\n",
       "      <td>889719</td>\n",
       "      <td>37.000416</td>\n",
       "    </tr>\n",
       "    <tr>\n",
       "      <th>27</th>\n",
       "      <td>8910988</td>\n",
       "      <td>5.000140</td>\n",
       "    </tr>\n",
       "    <tr>\n",
       "      <th>28</th>\n",
       "      <td>892438</td>\n",
       "      <td>57.999783</td>\n",
       "    </tr>\n",
       "    <tr>\n",
       "      <th>29</th>\n",
       "      <td>89539</td>\n",
       "      <td>77.998398</td>\n",
       "    </tr>\n",
       "    <tr>\n",
       "      <th>30</th>\n",
       "      <td>89812</td>\n",
       "      <td>6.516478</td>\n",
       "    </tr>\n",
       "    <tr>\n",
       "      <th>31</th>\n",
       "      <td>898431</td>\n",
       "      <td>32.999981</td>\n",
       "    </tr>\n",
       "    <tr>\n",
       "      <th>32</th>\n",
       "      <td>899987</td>\n",
       "      <td>4.000926</td>\n",
       "    </tr>\n",
       "    <tr>\n",
       "      <th>33</th>\n",
       "      <td>9010018</td>\n",
       "      <td>5.000648</td>\n",
       "    </tr>\n",
       "    <tr>\n",
       "      <th>34</th>\n",
       "      <td>9012000</td>\n",
       "      <td>2.000027</td>\n",
       "    </tr>\n",
       "    <tr>\n",
       "      <th>35</th>\n",
       "      <td>906023</td>\n",
       "      <td>33.619457</td>\n",
       "    </tr>\n",
       "    <tr>\n",
       "      <th>36</th>\n",
       "      <td>908194</td>\n",
       "      <td>1.000378</td>\n",
       "    </tr>\n",
       "    <tr>\n",
       "      <th>37</th>\n",
       "      <td>908489</td>\n",
       "      <td>8.999845</td>\n",
       "    </tr>\n",
       "    <tr>\n",
       "      <th>38</th>\n",
       "      <td>9110732</td>\n",
       "      <td>6.981586</td>\n",
       "    </tr>\n",
       "    <tr>\n",
       "      <th>39</th>\n",
       "      <td>9111805</td>\n",
       "      <td>2.869951</td>\n",
       "    </tr>\n",
       "    <tr>\n",
       "      <th>40</th>\n",
       "      <td>913505</td>\n",
       "      <td>13.999549</td>\n",
       "    </tr>\n",
       "    <tr>\n",
       "      <th>41</th>\n",
       "      <td>914062</td>\n",
       "      <td>12.000164</td>\n",
       "    </tr>\n",
       "    <tr>\n",
       "      <th>42</th>\n",
       "      <td>91485</td>\n",
       "      <td>12.814824</td>\n",
       "    </tr>\n",
       "    <tr>\n",
       "      <th>43</th>\n",
       "      <td>915143</td>\n",
       "      <td>4.065981</td>\n",
       "    </tr>\n",
       "    <tr>\n",
       "      <th>44</th>\n",
       "      <td>929684</td>\n",
       "      <td>6.556210</td>\n",
       "    </tr>\n",
       "    <tr>\n",
       "      <th>45</th>\n",
       "      <td>931652</td>\n",
       "      <td>1.000836</td>\n",
       "    </tr>\n",
       "    <tr>\n",
       "      <th>46</th>\n",
       "      <td>947204</td>\n",
       "      <td>6.920244</td>\n",
       "    </tr>\n",
       "  </tbody>\n",
       "</table>\n",
       "</div>"
      ],
      "text/plain": [
       "         ID  Time_prediction\n",
       "0    843584        26.999945\n",
       "1    843786        68.786362\n",
       "2    844582        77.000237\n",
       "3    847990        35.898537\n",
       "4    848620        10.000188\n",
       "5    851509        10.000082\n",
       "6    855625         9.000113\n",
       "7    857010         4.614289\n",
       "8    857438        47.999084\n",
       "9    857637        10.999986\n",
       "10   858986        34.000431\n",
       "11   859223        18.999346\n",
       "12   859983        26.000277\n",
       "13  8611792        40.000172\n",
       "14    86208        11.898436\n",
       "15   865128        34.999931\n",
       "16   866203        76.421776\n",
       "17   867739         7.000148\n",
       "18    87112        43.999290\n",
       "19   871201         7.999851\n",
       "20   873592         8.386093\n",
       "21   875263        76.506439\n",
       "22   879523         3.467235\n",
       "23   886490        18.999861\n",
       "24   887549        37.836540\n",
       "25   888570        11.999959\n",
       "26   889719        37.000416\n",
       "27  8910988         5.000140\n",
       "28   892438        57.999783\n",
       "29    89539        77.998398\n",
       "30    89812         6.516478\n",
       "31   898431        32.999981\n",
       "32   899987         4.000926\n",
       "33  9010018         5.000648\n",
       "34  9012000         2.000027\n",
       "35   906023        33.619457\n",
       "36   908194         1.000378\n",
       "37   908489         8.999845\n",
       "38  9110732         6.981586\n",
       "39  9111805         2.869951\n",
       "40   913505        13.999549\n",
       "41   914062        12.000164\n",
       "42    91485        12.814824\n",
       "43   915143         4.065981\n",
       "44   929684         6.556210\n",
       "45   931652         1.000836\n",
       "46   947204         6.920244"
      ]
     },
     "execution_count": 76,
     "metadata": {},
     "output_type": "execute_result"
    }
   ],
   "source": [
    "final_sub"
   ]
  },
  {
   "cell_type": "code",
   "execution_count": null,
   "metadata": {},
   "outputs": [],
   "source": []
  }
 ],
 "metadata": {
  "kernelspec": {
   "display_name": "Python 3",
   "language": "python",
   "name": "python3"
  },
  "language_info": {
   "codemirror_mode": {
    "name": "ipython",
    "version": 3
   },
   "file_extension": ".py",
   "mimetype": "text/x-python",
   "name": "python",
   "nbconvert_exporter": "python",
   "pygments_lexer": "ipython3",
   "version": "3.7.3"
  }
 },
 "nbformat": 4,
 "nbformat_minor": 4
}
